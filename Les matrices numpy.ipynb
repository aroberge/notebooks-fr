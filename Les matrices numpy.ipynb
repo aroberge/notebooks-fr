{
 "cells": [
  {
   "cell_type": "markdown",
   "metadata": {},
   "source": [
    "## Les matrices numpy  (numpy arrays)"
   ]
  },
  {
   "cell_type": "markdown",
   "metadata": {},
   "source": [
    "Vous êtes familiers avec les listes en Python.  Les \"arrays\" de numpy sont des listes ... ou des listes de listes ... ou des listes de listes de listes...  Ce sont essentiellement (sauf pour des différences mineures) des matrices.\n",
    "\n",
    "On peut utiliser des listes Python pour initialiser un \"array\" de numpy."
   ]
  },
  {
   "cell_type": "code",
   "execution_count": 1,
   "metadata": {
    "collapsed": false
   },
   "outputs": [
    {
     "name": "stdout",
     "output_type": "stream",
     "text": [
      "ma liste: [1, 2, 3, 4, 5]\n",
      "objet numpy:  [1 2 3 4 5]\n"
     ]
    }
   ],
   "source": [
    "import numpy as np  # Presque tous les programmeurs utilisent l'abbréviation np\n",
    "\n",
    "ma_liste = [1, 2, 3, 4, 5]\n",
    "array1 = np.array(ma_liste)\n",
    "\n",
    "print(\"ma liste:\", ma_liste)\n",
    "print(\"objet numpy: \", array1)"
   ]
  },
  {
   "cell_type": "markdown",
   "metadata": {},
   "source": [
    "Au lieu d'imprimer l'objet numpy, on peut voir sa représentation directement"
   ]
  },
  {
   "cell_type": "code",
   "execution_count": 2,
   "metadata": {
    "collapsed": false
   },
   "outputs": [
    {
     "data": {
      "text/plain": [
       "array([1, 2, 3, 4, 5])"
      ]
     },
     "execution_count": 2,
     "metadata": {},
     "output_type": "execute_result"
    }
   ],
   "source": [
    "array1"
   ]
  },
  {
   "cell_type": "markdown",
   "metadata": {},
   "source": [
    "Créons une deuxième liste ainsi qu'une liste de listes"
   ]
  },
  {
   "cell_type": "code",
   "execution_count": 3,
   "metadata": {
    "collapsed": false
   },
   "outputs": [
    {
     "name": "stdout",
     "output_type": "stream",
     "text": [
      "mes listes: \n",
      " [[1, 2, 3, 4, 5], [10, 20, 30, 40, 50]]\n",
      "----------------------------------------\n",
      "La matrice: \n",
      " [[ 1  2  3  4  5]\n",
      " [10 20 30 40 50]]\n",
      "----------------------------------------\n",
      "Représentation de la matrice:\n"
     ]
    },
    {
     "data": {
      "text/plain": [
       "array([[ 1,  2,  3,  4,  5],\n",
       "       [10, 20, 30, 40, 50]])"
      ]
     },
     "execution_count": 3,
     "metadata": {},
     "output_type": "execute_result"
    }
   ],
   "source": [
    "ma_liste2 = [10, 20, 30, 40, 50]\n",
    "mes_listes = [ma_liste, ma_liste2]\n",
    "print(\"mes listes: \\n\", mes_listes)\n",
    "print(\"-\"*40)\n",
    "\n",
    "matrice = np.array(mes_listes)\n",
    "print(\"La matrice: \\n\", matrice)\n",
    "print(\"-\"*40)\n",
    "print(\"Représentation de la matrice:\")\n",
    "matrice   # pour voir sa représentation"
   ]
  },
  {
   "cell_type": "markdown",
   "metadata": {},
   "source": [
    "Nous avons donc une matrice avec 2 lignes et 5 colonnes, dont les éléments sont des entiers."
   ]
  },
  {
   "cell_type": "code",
   "execution_count": 4,
   "metadata": {
    "collapsed": false
   },
   "outputs": [
    {
     "name": "stdout",
     "output_type": "stream",
     "text": [
      "shape =  (2, 5)\n",
      "type =  int32\n"
     ]
    }
   ],
   "source": [
    "print(\"shape = \", matrice.shape)     # information sur nombre de lignes et colonnes\n",
    "print(\"type = \", matrice.dtype)     # information sur le contenu"
   ]
  },
  {
   "cell_type": "markdown",
   "metadata": {},
   "source": [
    "On peut automatiquement créer des matrices particulières, soient remplies avec des zéros, des 1, ou la matrice identité (qui est une matrice carrée par définition."
   ]
  },
  {
   "cell_type": "code",
   "execution_count": 10,
   "metadata": {
    "collapsed": false
   },
   "outputs": [
    {
     "name": "stdout",
     "output_type": "stream",
     "text": [
      "[ 0.  0.  0.  0.]\n",
      "----------------------------------------\n",
      "[[ 0.  0.  0.]\n",
      " [ 0.  0.  0.]\n",
      " [ 0.  0.  0.]]\n",
      "----------------------------------------\n",
      "[[ 1.  1.]\n",
      " [ 1.  1.]\n",
      " [ 1.  1.]]\n",
      "----------------------------------------\n",
      "[[ 1.  0.  0.  0.]\n",
      " [ 0.  1.  0.  0.]\n",
      " [ 0.  0.  1.  0.]\n",
      " [ 0.  0.  0.  1.]]\n"
     ]
    }
   ],
   "source": [
    "print(np.zeros(4))\n",
    "print('-'*40)\n",
    "\n",
    "print(np.zeros([3,3]))\n",
    "print('-'*40)\n",
    "\n",
    "print(np.ones([3,2]))\n",
    "print('-'*40)\n",
    "\n",
    "print(np.eye(4))    # matrice identité"
   ]
  },
  {
   "cell_type": "markdown",
   "metadata": {},
   "source": [
    "Numpy inclut une généralisation de la fonction \"range\" the Python, mais permettant des valeurs non-entières."
   ]
  },
  {
   "cell_type": "code",
   "execution_count": 6,
   "metadata": {
    "collapsed": false
   },
   "outputs": [
    {
     "data": {
      "text/plain": [
       "array([ 1. ,  1.2,  1.4,  1.6,  1.8,  2. ,  2.2,  2.4,  2.6,  2.8,  3. ,\n",
       "        3.2,  3.4,  3.6,  3.8,  4. ,  4.2,  4.4,  4.6,  4.8])"
      ]
     },
     "execution_count": 6,
     "metadata": {},
     "output_type": "execute_result"
    }
   ],
   "source": [
    "np.arange(1, 5, 0.2)"
   ]
  },
  {
   "cell_type": "markdown",
   "metadata": {
    "collapsed": true
   },
   "source": [
    "## Opérations élémentaires sur les matrices (arrays) numpy\n",
    "\n",
    "Par défaut, les opérations sont faites sur chaque élément de la matrice.  Nous allons démontrer ceci\n",
    "en créant deux matrices de la même taille (même nombre de lignes et de colonnes)\n",
    "et en faisant diverses opérations.\n",
    "\n",
    "Nous commençons avec des opérations sur une seule matrice."
   ]
  },
  {
   "cell_type": "code",
   "execution_count": 7,
   "metadata": {
    "collapsed": false
   },
   "outputs": [
    {
     "name": "stdout",
     "output_type": "stream",
     "text": [
      "[[ 3  6  9]\n",
      " [12 15 18]]\n",
      "----------------------------------------\n",
      "[[ 0.5  1.   1.5]\n",
      " [ 2.   2.5  3. ]]\n",
      "----------------------------------------\n",
      "[[ 1.          0.5         0.33333333]\n",
      " [ 0.25        0.2         0.16666667]]\n",
      "----------------------------------------\n",
      "[[1 2 0]\n",
      " [1 2 0]]\n",
      "----------------------------------------\n",
      "[[21 22 23]\n",
      " [24 25 26]]\n",
      "----------------------------------------\n"
     ]
    }
   ],
   "source": [
    "mat1 = np.array([ [1, 2, 3], [4, 5, 6]])\n",
    "\n",
    "print(3 * mat1)\n",
    "print(\"-\"*40)\n",
    "\n",
    "print(mat1 / 2)\n",
    "print(\"-\"*40)\n",
    "\n",
    "print(1 / mat1)\n",
    "print(\"-\"*40)\n",
    "\n",
    "print(mat1 % 3)\n",
    "print(\"-\"*40)\n",
    "\n",
    "print(mat1 + 20)\n",
    "print(\"-\"*40)"
   ]
  },
  {
   "cell_type": "markdown",
   "metadata": {},
   "source": [
    "Nous considérons maintenant des opérations avec deux matrices."
   ]
  },
  {
   "cell_type": "code",
   "execution_count": 8,
   "metadata": {
    "collapsed": false
   },
   "outputs": [
    {
     "name": "stdout",
     "output_type": "stream",
     "text": [
      "[[12 14 16]\n",
      " [18 20 22]]\n",
      "----------------------------------------\n",
      "[[10 10 10]\n",
      " [10 10 10]]\n",
      "----------------------------------------\n",
      "[[ 1  4  9]\n",
      " [16 25 36]]\n"
     ]
    }
   ],
   "source": [
    "mat2 = np.array([ [11, 12, 13], [14, 15, 16]])\n",
    "\n",
    "print(mat1 + mat2)\n",
    "print(\"-\"*40)\n",
    "\n",
    "print(mat2 - mat1)\n",
    "print(\"-\"*40)\n",
    "\n",
    "print(mat1 * mat1)   # IMPORTANT: ceci n'est PAS la multiplication normale de matrices"
   ]
  },
  {
   "cell_type": "markdown",
   "metadata": {},
   "source": [
    "Si on essaie de faire de telles opérations sur des matrices de taille différente, cela ne fonctionne pas."
   ]
  },
  {
   "cell_type": "code",
   "execution_count": 9,
   "metadata": {
    "collapsed": false
   },
   "outputs": [
    {
     "ename": "ValueError",
     "evalue": "operands could not be broadcast together with shapes (2,2) (2,3) ",
     "output_type": "error",
     "traceback": [
      "\u001b[1;31m---------------------------------------------------------------------------\u001b[0m",
      "\u001b[1;31mValueError\u001b[0m                                Traceback (most recent call last)",
      "\u001b[1;32m<ipython-input-9-b12f57d37ee7>\u001b[0m in \u001b[0;36m<module>\u001b[1;34m()\u001b[0m\n\u001b[0;32m      1\u001b[0m \u001b[0mmat3\u001b[0m \u001b[1;33m=\u001b[0m \u001b[0mnp\u001b[0m\u001b[1;33m.\u001b[0m\u001b[0marray\u001b[0m\u001b[1;33m(\u001b[0m\u001b[1;33m[\u001b[0m\u001b[1;33m[\u001b[0m\u001b[1;36m1\u001b[0m\u001b[1;33m,\u001b[0m \u001b[1;36m2\u001b[0m\u001b[1;33m]\u001b[0m\u001b[1;33m,\u001b[0m \u001b[1;33m[\u001b[0m\u001b[1;36m3\u001b[0m\u001b[1;33m,\u001b[0m \u001b[1;36m4\u001b[0m\u001b[1;33m]\u001b[0m\u001b[1;33m]\u001b[0m\u001b[1;33m)\u001b[0m\u001b[1;33m\u001b[0m\u001b[0m\n\u001b[1;32m----> 2\u001b[1;33m \u001b[0mmat3\u001b[0m \u001b[1;33m*\u001b[0m \u001b[0mmat1\u001b[0m\u001b[1;33m\u001b[0m\u001b[0m\n\u001b[0m",
      "\u001b[1;31mValueError\u001b[0m: operands could not be broadcast together with shapes (2,2) (2,3) "
     ]
    }
   ],
   "source": [
    "mat3 = np.array([[1, 2], [3, 4]])\n",
    "mat3 * mat1"
   ]
  }
 ],
 "metadata": {
  "kernelspec": {
   "display_name": "Python 3",
   "language": "python",
   "name": "python3"
  },
  "language_info": {
   "codemirror_mode": {
    "name": "ipython",
    "version": 3
   },
   "file_extension": ".py",
   "mimetype": "text/x-python",
   "name": "python",
   "nbconvert_exporter": "python",
   "pygments_lexer": "ipython3",
   "version": "3.4.1"
  }
 },
 "nbformat": 4,
 "nbformat_minor": 0
}
